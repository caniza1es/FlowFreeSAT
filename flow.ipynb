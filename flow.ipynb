{
 "cells": [
  {
   "cell_type": "markdown",
   "metadata": {},
   "source": [
    "Modulo representación grafica"
   ]
  },
  {
   "cell_type": "code",
   "execution_count": 1,
   "metadata": {},
   "outputs": [],
   "source": [
    "import FlowRead"
   ]
  },
  {
   "cell_type": "markdown",
   "metadata": {},
   "source": [
    "Se definen atomos por posición, color y dirección"
   ]
  },
  {
   "cell_type": "code",
   "execution_count": 2,
   "metadata": {},
   "outputs": [],
   "source": [
    "import Logica\n",
    "Nx = 5\n",
    "Ny = 5\n",
    "Nc = 4\n",
    "Nd = 7\n",
    "X = list(range(Nx))\n",
    "Y = list(range(Ny))\n",
    "C = list(range(Nc))\n",
    "D = list(range(Nd))\n",
    "xypos = []\n",
    "Colores = {\n",
    "    0 : 'R',\n",
    "    1 : 'G',\n",
    "    2 : 'B',\n",
    "    3 : 'O' \n",
    "}\n",
    "Direcciones = {\n",
    "    0 : \"t\",\n",
    "    1 : \"tb\",\n",
    "    2 : \"tl\",\n",
    "    3 : \"tr\",\n",
    "    4 : \"lb\",\n",
    "    5 : \"rb\",\n",
    "    6 : \"lr\"\n",
    "}\n",
    "\n",
    "reglas = []\n",
    "\n",
    "OenCasilla = Logica.Descriptor([Nx,Ny,Nc,Nd])\n",
    "\n",
    "def escribir(self,literal):\n",
    "    if '-' in literal:\n",
    "        atomo = literal[1:]\n",
    "        neg = ' no'\n",
    "    else:\n",
    "        atomo = literal\n",
    "        neg = ''\n",
    "        x, y, c, d = self.inv(atomo)\n",
    "        return f\"{neg}({X[x]},{Y[y]})/{Colores[c]}{Direcciones[d]}\"\n",
    "\n",
    "from types import MethodType\n",
    "OenCasilla.escribir = MethodType(escribir, OenCasilla)"
   ]
  },
  {
   "cell_type": "markdown",
   "metadata": {},
   "source": [
    "#### REGLA 1: \n",
    "\n",
    "Ninguna Casilla puede estar vacia"
   ]
  },
  {
   "cell_type": "code",
   "execution_count": 3,
   "metadata": {},
   "outputs": [],
   "source": [
    "def asignarCD():\n",
    "    Y_xy = []\n",
    "    for x in X:\n",
    "        for y in Y:\n",
    "                Oc = []\n",
    "                for c in C:\n",
    "                    if (x,y) not in xypos:\n",
    "                        cd = [OenCasilla.P([x,y,c,u]) for u in D if u != 0]\n",
    "                        formula = Logica.Otoria(cd) #si no es terminal se le asigna color y direccion\n",
    "                        Oc.append(formula)\n",
    "                if len(Oc) != 0:\n",
    "                    Y_xy.append(Logica.Otoria(Oc))\n",
    "    return Logica.Ytoria(Y_xy)\n",
    "\n"
   ]
  },
  {
   "cell_type": "markdown",
   "metadata": {},
   "source": [
    "#### REGLA 2: \n",
    "\n",
    "Solo un color y dirección por Casilla"
   ]
  },
  {
   "cell_type": "code",
   "execution_count": 4,
   "metadata": {},
   "outputs": [],
   "source": [
    "def unCD():\n",
    "    Y_xy = []\n",
    "    for x in X:\n",
    "        for y in Y:\n",
    "            Yd = []\n",
    "            for d in D:\n",
    "                Yc = []\n",
    "                for c in C:\n",
    "                    ocd = [OenCasilla.P([x,y,u,m]) for u in C for m in D if u != c or m != d] #casillas con diferente direccion o color\n",
    "                    formula = \"(\"+OenCasilla.P([x,y,c,d])+\">-\"+Logica.Otoria(ocd)+\")\"\n",
    "                    Yc.append(formula)\n",
    "                Yd.append(Logica.Ytoria(Yc))\n",
    "            Y_xy.append(Logica.Ytoria(Yd))\n",
    "    return Logica.Ytoria(Y_xy)"
   ]
  },
  {
   "cell_type": "markdown",
   "metadata": {},
   "source": [
    "# REGLA 3:\n",
    "\n",
    "- Si es terminal, debe tener un solo vecino(definido por x+1 x-1 y+1 o y-1)"
   ]
  },
  {
   "cell_type": "code",
   "execution_count": 5,
   "metadata": {},
   "outputs": [],
   "source": [
    "def vecT():\n",
    "    Y_xy = []\n",
    "    for x in X:\n",
    "        for y in Y:\n",
    "            Y_c = []\n",
    "            for c in C:\n",
    "                vecinos = [OenCasilla.P([u,m,c,d]) for u in X for m in Y for d in D if ((u == x-1 and m == y) or (u == x+1 and m == y) or (m==y+1 and u == x) or (m==y-1 and u == x)) and d!=0 ]\n",
    "                formula = \"(\"+OenCasilla.P([x,y,c,0])+\">\"\n",
    "                v = []\n",
    "                for e in vecinos:\n",
    "                    otros_vecinos = [n for n in vecinos if n != e]\n",
    "                    form = \"(\"+e+\"Y-\"+Logica.Otoria(otros_vecinos)+\")\"\n",
    "                    v.append(form)\n",
    "                vv = Logica.Otoria(v)\n",
    "                formula+=vv+\")\"\n",
    "                if len(vecinos) != 1:\n",
    "                    Y_c.append(formula)\n",
    "                else:\n",
    "                    Y_c.append(\"(\"+OenCasilla.P([x,y,c,0])+\">\"+vecinos[0]+\")\")\n",
    "            Y_xy.append(Logica.Ytoria(Y_c))\n",
    "    return Logica.Ytoria(Y_xy)\n"
   ]
  },
  {
   "cell_type": "markdown",
   "metadata": {},
   "source": [
    "#### INTERPRETACIÓN "
   ]
  },
  {
   "cell_type": "markdown",
   "metadata": {},
   "source": [
    "##### LECTURA PARAMETROS INICIALES"
   ]
  },
  {
   "cell_type": "code",
   "execution_count": 6,
   "metadata": {},
   "outputs": [],
   "source": [
    "imgD = {\n",
    "\t'-' : 'img/empty.gif',\n",
    "\t'B' : 'img/blueend.gif',\n",
    "\t'O' : 'img/orangeend.gif',\n",
    "\t'R' : 'img/redend.gif',\n",
    "\t'G' : 'img/greenend.gif',\n",
    "\t'r' : 'img/lrred.gif',\n",
    "\t'g' : 'img/lrgreen.gif',\n",
    "\t'b' : 'img/lrblue.gif',\n",
    "\t'z' : 'img/tbblue.gif',\n",
    "\t'x' : 'img/tlblue.gif',\n",
    "\t'c' : 'img/trblue.gif',\n",
    "\t'v' : 'img/lbblue.gif',\n",
    "\t'n' : 'img/rbblue.gif',\n",
    "\t'o' : 'img/lrorange.gif',\n",
    "\t'9' : 'img/cirno.gif',\n",
    "\t'Z' : 'img/tborange.gif',\n",
    "\t'X' : 'img/tlorange.gif',\n",
    "\t'C' : 'img/trorange.gif',\n",
    "\t'V' : 'img/lborange.gif',\n",
    "\t'N' : 'img/rborange.gif',\n",
    "\t'q' : 'img/tbgreen.gif',\n",
    "\t'w' : 'img/tlgreen.gif',\n",
    "\t'e' : 'img/trgreen.gif',\n",
    "\t't' : 'img/lbgreen.gif',\n",
    "\t'y' : 'img/rbgreen.gif',\n",
    "\t'Q' : 'img/tbred.gif',\n",
    "\t'W' : 'img/tlred.gif',\n",
    "\t'E' : 'img/trred.gif',\n",
    "\t'T' : 'img/lbred.gif',\n",
    "\t'Y' : 'img/rbred.gif',\n",
    "\n",
    "\n",
    "}\n",
    "#lee un archivo con los parametros de la matriz\n",
    "def FlowRead(MAP_FILE):\n",
    "\tMAP_FILE = open(MAP_FILE,\"r\")\n",
    "\tMAP_MATRIX = [j.strip() for j in MAP_FILE]\n",
    "\tMAP_FILE.close()\n",
    "\treturn MAP_MATRIX\n",
    "\t\n",
    "#muestra la matriz flow free (una vez aplicado flowread)\n",
    "def FlowPrint(MAP_MATRIX):\n",
    "\timport turtle\n",
    "\t#recibe una matriz de FlowFree y la muestra\n",
    "\tFlowWindow = turtle.Screen()\n",
    "\tFlowWindow.setup(500,500)\n",
    "\tFlowWindow.title(\"FlowFree\")\n",
    "\tFlowWindow.tracer(0)\n",
    "\tfor k in imgD.keys():\n",
    "   \t\tFlowWindow.addshape(imgD[k])\n",
    "\tcell = turtle.Turtle()\n",
    "\tcell.pu()\n",
    "\tcell.ht()\n",
    "\ty = 200\n",
    "\tfor CELL in MAP_MATRIX:\n",
    "\t\tcell.sety(y)\n",
    "\t\tx = -200\n",
    "\t\tfor TYPE in CELL:\n",
    "\t\t\tcell.setx(x)\n",
    "\t\t\ttry:\n",
    "\t\t\t\tcell.shape(imgD[TYPE])\n",
    "\t\t\texcept:\n",
    "\t\t\t\tcell.shape(imgD['9'])\n",
    "\t\t\tcell.stamp()\n",
    "\t\t\tx += 100\n",
    "\t\ty-=100 \n",
    "\tFlowWindow.exitonclick()"
   ]
  },
  {
   "cell_type": "markdown",
   "metadata": {},
   "source": [
    "##### SOLUCION"
   ]
  },
  {
   "cell_type": "code",
   "execution_count": 7,
   "metadata": {},
   "outputs": [],
   "source": [
    "def decodificar(list):\n",
    "    matriz = []\n",
    "    m = []\n",
    "    pos = {}\n",
    "    t = {\n",
    "        \"Rt\" : \"R\",\n",
    "        \"Rlr\" : \"r\",\n",
    "        \"Rtb\" : \"Q\",\n",
    "        \"Rtl\" : \"W\",\n",
    "        \"Rtr\" :    \"E\",\n",
    "        \"Rlb\" : \"mapa\",\n",
    "        \"Rrb\" : \"Y\",\n",
    "        \"Gt\"  : \"G\",\n",
    "        \"Glr\" : \"g\",\n",
    "        \"Gtb\" : \"q\",\n",
    "        \"Gtl\" : \"w\",\n",
    "        \"Gtr\" : \"e\",\n",
    "        \"Glb\" : \"t\",\n",
    "        \"Grb\" : \"y\",\n",
    "        \"Bt\" : \"B\",\n",
    "        \"Btb\": \"z\",\n",
    "        \"Btl\" : \"x\",\n",
    "        \"Btr\" : \"c\",\n",
    "        \"Blb\" : \"v\",\n",
    "        \"Brb\" : \"n\",\n",
    "        \"Ot\" : \"O\",\n",
    "        \"Olr\" : \"o\",\n",
    "        \"Otb\" : \"Z\",\n",
    "        \"Otl\" : \"X\",\n",
    "        \"Otr\" : \"C\",\n",
    "        \"Olb\" : \"V\",\n",
    "        \"Orb\" : \"N\"\n",
    "\n",
    "    }\n",
    "    for key in list:\n",
    "        m.append(OenCasilla.escribir(key))\n",
    "    for i in m:\n",
    "        pos[(int(i[1]),int(i[3]))] = i.split(\"/\")[1]\n",
    "    for y in range(Ny):\n",
    "        strr = \"\"\n",
    "        for x in range(Nx):\n",
    "            for key in pos.keys():\n",
    "                if key[0] == x and key[1] == y:\n",
    "                    strr+=t[pos[(x,y)]]\n",
    "                else:\n",
    "                    continue\n",
    "        matriz.append(strr)\n",
    "    return matriz\n",
    "\n",
    "def asignarReglas(lista):\n",
    "    reglas = []\n",
    "    reglas.append(unCD())\n",
    "    reglas.append(vecT())\n",
    "    for i in lista:\n",
    "        # print(i[0],i[1],i[2],i[3])\n",
    "        reglas.append(OenCasilla.P([i[0],i[1],i[2],i[3]]))\n",
    "        xypos.append((i[0],i[1]))\n",
    "    reglas.append(asignarCD())\n",
    "    return resolver(Logica.Ytoria(reglas))\n",
    "\n",
    "def resolver(formula):\n",
    "    S = Logica.tseitin(formula)\n",
    "    S,I = Logica.dpll(S,{})\n",
    "    lis = []\n",
    "    for k in I:\n",
    "        if (ord(k) >= OenCasilla.rango[0]) and (ord(k) <= OenCasilla.rango[1]) and I[k]:\n",
    "            lis.append(k)\n",
    "    return decodificar(lis)"
   ]
  },
  {
   "cell_type": "code",
   "execution_count": 20,
   "metadata": {},
   "outputs": [],
   "source": [
    "mapa = FlowRead(input(\"mapa: \"))"
   ]
  },
  {
   "cell_type": "code",
   "execution_count": 21,
   "metadata": {},
   "outputs": [],
   "source": [
    "terminales = []\n",
    "for y in range(len(mapa)):\n",
    "    for x in range(len(mapa[y])):\n",
    "        if mapa[y][x] == 'R':\n",
    "            terminales.append((x,y,0,0))\n",
    "        elif mapa[y][x] == 'G':\n",
    "            terminales.append((x,y,1,0))\n",
    "        elif mapa[y][x] == 'B':\n",
    "            terminales.append((x,y,2,0))\n",
    "        elif mapa[y][x] == 'O':\n",
    "            terminales.append((x,y,3,0))\n",
    "        else:\n",
    "            continue\n",
    "formula = asignarReglas(terminales)\n",
    "FlowPrint(formula)\n"
   ]
  }
 ],
 "metadata": {
  "interpreter": {
   "hash": "916dbcbb3f70747c44a77c7bcd40155683ae19c65e1c03b4aa3499c5328201f1"
  },
  "kernelspec": {
   "display_name": "Python 3.8.10 64-bit",
   "language": "python",
   "name": "python3"
  },
  "language_info": {
   "codemirror_mode": {
    "name": "ipython",
    "version": 3
   },
   "file_extension": ".py",
   "mimetype": "text/x-python",
   "name": "python",
   "nbconvert_exporter": "python",
   "pygments_lexer": "ipython3",
   "version": "3.8.10"
  },
  "orig_nbformat": 4
 },
 "nbformat": 4,
 "nbformat_minor": 2
}
