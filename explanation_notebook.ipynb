{
 "cells": [
  {
   "cell_type": "markdown",
   "metadata": {},
   "source": [
    "# Flow Free SAT Solver\n",
    "\n",
    "Mostraremos paso a paso las construccion de las reglas necesarias para solucionar el famoso juego **Flow Free**. Utilizaremos logica proposicional y el SAT Solver DPLL para este fin. Los mapas que manejamos se encuentran en la carpeta *mapas/* y sus coordenadas se encuentran en **x** de izquierda a derecha y en **y** de arriba a abajo."
   ]
  },
  {
   "cell_type": "code",
   "execution_count": 34,
   "metadata": {},
   "outputs": [],
   "source": [
    "# Librerias\n",
    "import pycosat\n",
    "import turtle\n",
    "# Modulo\n",
    "import Logica"
   ]
  },
  {
   "cell_type": "markdown",
   "metadata": {},
   "source": [
    "# Funciones"
   ]
  },
  {
   "cell_type": "markdown",
   "metadata": {},
   "source": [
    "### Funciones de Lectura"
   ]
  },
  {
   "cell_type": "code",
   "execution_count": 35,
   "metadata": {},
   "outputs": [],
   "source": [
    "def FlowRead(MAP_FILE):\n",
    "    \"\"\" Lee las situaciones iniciales de los archivos de ejemplo\n",
    "\n",
    "    Args:\n",
    "        MAP_FILE : path de archivo .txt con la situacion inicial.\n",
    "    Returns:\n",
    "        MAP_MATRIX : lista con la matriz de juego.\n",
    "    \"\"\"\n",
    "    MAP_FILE = open(MAP_FILE, \"r\")\n",
    "    MAP_MATRIX = [j.strip() for j in MAP_FILE]\n",
    "    MAP_FILE.close()\n",
    "    return MAP_MATRIX\n",
    "\n",
    "\n",
    "def defineMap(matriz):\n",
    "    \"\"\" Guarda la posicion de las terminales\n",
    "\n",
    "    Args:\n",
    "        matriz : lista con la matriz de juego\n",
    "    Returns:\n",
    "        dic : diccionario con las posiciones de las terminales\n",
    "    \"\"\"\n",
    "    dic = {}\n",
    "    dic_a = { 'R': 0, 'G': 1, 'B': 2, 'O': 3, 'P': 4 }\n",
    "\n",
    "    for y in range(len(matriz)):\n",
    "        for x in range(len(matriz[y])):\n",
    "            if matriz[y][x] in ['R', 'G', 'B', 'O', 'P']:\n",
    "                dic[(x, y)] = dic_a[matriz[y][x]]\n",
    "    return dic"
   ]
  },
  {
   "cell_type": "markdown",
   "metadata": {},
   "source": [
    "### Funciones para solucionar el juego (pycosat)"
   ]
  },
  {
   "cell_type": "code",
   "execution_count": 36,
   "metadata": {},
   "outputs": [],
   "source": [
    "def lit_numero(l):\n",
    "    \"\"\" Convierte un literal logico en un numero. Si contiene\n",
    "    una negacion, el numero es negativo.\n",
    "    \"\"\"\n",
    "    if '-' in l:\n",
    "        return -ord(l[1:]) + 256\n",
    "    else:\n",
    "        return ord(l) - 256\n",
    "\n",
    "\n",
    "def clausula_numero(C):\n",
    "    \"\"\" Convierte a numero una lista de literales dentro de una clausula\n",
    "    \"\"\"\n",
    "    return [lit_numero(l) for l in C]\n",
    "\n",
    "\n",
    "def fnc_numero(S):\n",
    "    \"\"\" Convierte a numero una lista de clausulas\n",
    "    \"\"\"\n",
    "    return [clausula_numero(C) for C in S]\n",
    "\n",
    "\n",
    "def obtener_int(mod):\n",
    "    \"\"\" Transforma de entero a caracter\n",
    "    \"\"\"\n",
    "    return {chr(256 + abs(n)): n > 0 for n in mod}\n",
    "\n",
    "\n",
    "def resolver(formula):\n",
    "    S = Logica.tseitin(formula)  # Conversion de la formula a forma clausal\n",
    "    S = fnc_numero(S)  # Conversion de la forma clausal a numeros\n",
    "    solution = pycosat.solve(S)  # Hallar solucion con DPLL  \n",
    "    if solution == \"UNSAT\":  # Si es no satisfacible retorna None\n",
    "        print(solution)\n",
    "        return None\n",
    "    # Si es satisfacible\n",
    "    II = obtener_int(solution)  # Convierte enteros a caracteres\n",
    "    lis = []\n",
    "    for k in II:\n",
    "        if (ord(k) >= OenCasilla.rango[0]) and (ord(k) <= OenCasilla.rango[1]) and II[k]:\n",
    "            lis.append(k)\n",
    "    return lis"
   ]
  },
  {
   "cell_type": "markdown",
   "metadata": {},
   "source": [
    "### Funciones para visualizar la solucion"
   ]
  },
  {
   "cell_type": "code",
   "execution_count": 37,
   "metadata": {},
   "outputs": [],
   "source": [
    "def coors(x, y):\n",
    "    \"\"\" Transforma las posiciones de las celdas en coordenadas para Turtle\n",
    "    \"\"\"\n",
    "    return -(((100 * Nx) / 2) - 50) + ( x * 100), ((( 100 * Ny) / 2) - 50) - (y * 100)\n",
    "\n",
    "\n",
    "def visualizar(I):\n",
    "    \"\"\" Visualizacion del mapa con la solucion\n",
    "    \"\"\"\n",
    "    FlowWindow = turtle.Screen()\n",
    "    FlowWindow.setup(100*Nx, 100*Ny)\n",
    "    FlowWindow.title(\"FlowFree\")\n",
    "    FlowWindow.tracer(0)\n",
    "    for T in range(Nc):\n",
    "        FlowWindow.addshape('img/{0}.gif'.format(T))\n",
    "    for d in D:\n",
    "        for c in C:\n",
    "            FlowWindow.addshape('img/{0}{1}.gif'.format(d, c))\n",
    "    cell = turtle.Turtle()\n",
    "    cell.pu()\n",
    "    cell.ht()\n",
    "    for t in pos_t.keys():\n",
    "        cell.setpos(coors(t[0], t[1]))\n",
    "        cell.shape('img/{}.gif'.format(pos_t[t]))\n",
    "        cell.stamp()\n",
    "    for valor in I:\n",
    "        corx, cory, color, dirr = OenCasilla.inv(valor)\n",
    "        cell.setpos(coors(corx, cory))\n",
    "        cell.shape('img/{0}{1}.gif'.format(dirr, color))\n",
    "        cell.stamp()\n",
    "    FlowWindow.exitonclick()\n"
   ]
  },
  {
   "cell_type": "markdown",
   "metadata": {},
   "source": [
    "# Situacion inicial\n",
    "\n",
    "Utilizaremos la situacion inicial que se encuentra en _mapas/5x5/2.txt_ para analizar regla por regla"
   ]
  },
  {
   "cell_type": "code",
   "execution_count": 38,
   "metadata": {},
   "outputs": [],
   "source": [
    "mapa = FlowRead(\"mapas/5x5/1.txt\")  # Lectura del archivo\n",
    "\n",
    "Nx = len(mapa[0])  # Casillas X\n",
    "Ny = len(mapa)  # Casillas Y\n",
    "Nc = 5  # Numero de colores posibles\n",
    "Nd = 4  # Numero de direcciones posibles\n",
    "\n",
    "# Listas\n",
    "X = list(range(Nx))\n",
    "Y = list(range(Ny))\n",
    "C = list(range(Nc))\n",
    "D = list(range(Nd))\n",
    "\n",
    "# Diccionario con la transformacion de numero a caracter\n",
    "# de los colores y direcciones posibles\n",
    "NColores = { 'R': 0, 'G': 1, 'B': 2, 'O': 3, 'P': 4 }\n",
    "Colores = { 0: 'R', 1: 'G', 2: 'B', 3: 'O', 4: 'P' }\n",
    "Direcciones = { 0: 't', 1: 'b', 2: 'l', 3: 'r' }\n",
    "direcciones_posibles = { \n",
    "    (0, 1): 'tb', (0, 2): 'tl', (0, 3): 'tr', \n",
    "    (1, 2): 'bl', (1, 3): 'br', (2, 3): 'lr' }\n",
    "\n",
    "# Descriptor de las situacion\n",
    "OenCasilla = Logica.Descriptor([Nx, Ny, Nc, Nd], chrInit=257)\n",
    "pos_t = defineMap(mapa)  # Lista de las posiciones con terminales"
   ]
  },
  {
   "cell_type": "markdown",
   "metadata": {},
   "source": [
    "# Regla 1\n",
    "\n",
    "Asigna un color a todas las casillas si esta no es terminal."
   ]
  },
  {
   "cell_type": "code",
   "execution_count": 39,
   "metadata": {},
   "outputs": [],
   "source": [
    "def regla_1():\n",
    "    Y_xy = []\n",
    "    for x in X:\n",
    "        for y in Y:\n",
    "            if (x, y) not in pos_t:\n",
    "                O_c = []\n",
    "                for c in C:\n",
    "                    nq = [OenCasilla.P([x, y, nc, d])\n",
    "                          for nc in C if nc != c for d in D]\n",
    "                    q = [OenCasilla.P([x, y, c, d]) for d in D]\n",
    "                    formula = \"(\"+Logica.Otoria(q)+\"Y-\"+Logica.Otoria(nq)+\")\"\n",
    "                    O_c.append(formula)\n",
    "                Y_xy.append(Logica.Otoria(O_c))\n",
    "    return Logica.Ytoria(Y_xy)"
   ]
  },
  {
   "cell_type": "code",
   "execution_count": 41,
   "metadata": {},
   "outputs": [],
   "source": [
    "def flowSAT():\n",
    "    SAT = []\n",
    "    SAT.append(regla_1())\n",
    "    SAT = list(filter(None, SAT))\n",
    "    return Logica.Ytoria(SAT)\n",
    "\n",
    "\n",
    "M = resolver(flowSAT())  # Resuelve\n",
    "# Si encuentra una solucion, muestra una visualizacion\n",
    "if M:\n",
    "    visualizar(M)"
   ]
  },
  {
   "cell_type": "markdown",
   "metadata": {},
   "source": [
    "<img src=\"example_imgs_notebook/regla_1.png\" width=\"250\">\n",
    "\n",
    "**Tiempo en encontrar una solucion:** < 1s. \n",
    "\n",
    "*La solucion aparece en una pestaña nueva ya que estamos utilizando Turtle.* \n",
    "\n",
    "Se observa que todas las casillas tienen color violeta."
   ]
  },
  {
   "cell_type": "markdown",
   "metadata": {},
   "source": [
    "# Regla 2\n",
    "\n",
    "Cada casilla debe tener dos direcciones si esta no es una terminal."
   ]
  },
  {
   "cell_type": "code",
   "execution_count": 42,
   "metadata": {},
   "outputs": [],
   "source": [
    "def regla_2():\n",
    "    Y_xy = []\n",
    "    for x in X:\n",
    "        for y in Y:\n",
    "            if (x, y) not in pos_t.keys():\n",
    "                O_d = []\n",
    "                for d in direcciones_posibles.keys():\n",
    "                    pq = [Logica.Ytoria(\n",
    "                        [OenCasilla.P([x, y, c, d[0]]), OenCasilla.P([x, y, c, d[1]])]) for c in C]\n",
    "                    npq = [Logica.Ytoria([OenCasilla.P([x, y, c, u[0]]), OenCasilla.P(\n",
    "                        [x, y, c, u[1]])]) for c in C for u in direcciones_posibles.keys() if u != d]\n",
    "                    pq = \"(\"+Logica.Otoria(pq)+\"Y-\"+Logica.Otoria(npq)+\")\"\n",
    "                    O_d.append(pq)\n",
    "                Y_xy.append(Logica.Otoria(O_d))\n",
    "    return Logica.Ytoria(Y_xy)"
   ]
  },
  {
   "cell_type": "code",
   "execution_count": 43,
   "metadata": {},
   "outputs": [],
   "source": [
    "def flowSAT():\n",
    "    SAT = []\n",
    "    SAT.append(regla_1())\n",
    "    SAT.append(regla_2())\n",
    "    SAT = list(filter(None, SAT))\n",
    "    return Logica.Ytoria(SAT)\n",
    "\n",
    "\n",
    "M = resolver(flowSAT())  # Resuelve\n",
    "# Si encuentra una solucion, muestra una visualizacion\n",
    "if M:\n",
    "    visualizar(M)"
   ]
  },
  {
   "cell_type": "markdown",
   "metadata": {},
   "source": [
    "<img src=\"example_imgs_notebook/regla_2.png\" width=\"250\">\n",
    "\n",
    "**Tiempo en encontrar una solucion:** < 5s. \n",
    "\n",
    "*La solucion aparece en una pestaña nueva ya que estamos utilizando Turtle.*\n",
    "\n",
    "Se observa que todas las casillas tienen direcciones *top-bottom* de color rojo."
   ]
  },
  {
   "cell_type": "markdown",
   "metadata": {},
   "source": [
    "# Regla 3\n",
    "\n",
    "Asigna que las terminales solo pueden tener un vecino apuntando a su direccion, el cual debe tener el mismo color que la terminal."
   ]
  },
  {
   "cell_type": "code",
   "execution_count": 44,
   "metadata": {},
   "outputs": [],
   "source": [
    "def vectort(T, vecino_escogido):\n",
    "    if vecino_escogido[0] == T[0] + 1:\n",
    "        return 2\n",
    "    elif vecino_escogido[0] == T[0] - 1:\n",
    "        return 3\n",
    "    elif vecino_escogido[1] == T[1] + 1:\n",
    "        return 0\n",
    "    elif vecino_escogido[1] == T[1] - 1:\n",
    "        return 1\n",
    "\n",
    "\n",
    "def regla_3():\n",
    "    Y_pos_t = []\n",
    "    for T in pos_t.keys():\n",
    "        # Encuentra las casillas que son vecinos de la terminal y que no son terminal\n",
    "        vecinos = [(x, y) for x in X for y in Y if ((x, y) not in pos_t.keys()) and (\n",
    "            ((x+1 == T[0] or x-1 == T[0]) and y == T[1]) or ((y+1 == T[1] or y-1 == T[1]) and x == T[0]))]\n",
    "        if len(vecinos) == 1:\n",
    "        # Si solo tiene una casilla vecina que no es terminal esta debe tener una \n",
    "        # direccion que apunte a la terminal\n",
    "            Y_pos_t.append(OenCasilla.P(\n",
    "                [vecinos[0][0], vecinos[0][1], pos_t[T], vectort(T, vecinos[0])]))\n",
    "            continue\n",
    "        O_par_t = []\n",
    "        for vecino_escogido in vecinos:\n",
    "        # Solo uno de los posibles vecinos puede estar apuntando a su direccion\n",
    "            otros_vecinos = [i for i in vecinos if i != vecino_escogido]\n",
    "            vtp = OenCasilla.P(\n",
    "                [vecino_escogido[0], vecino_escogido[1], pos_t[T], vectort(T, vecino_escogido)])\n",
    "            ovtotal = []\n",
    "            for ov in otros_vecinos:\n",
    "                ovc = [OenCasilla.P(\n",
    "                    [ov[0], ov[1], c, vectort(T, (ov[0], ov[1]))])for c in C]\n",
    "                ovtotal.append(Logica.Otoria(ovc))\n",
    "            formula = \"(\"+vtp+\"Y-\"+Logica.Otoria(ovtotal)+\")\"\n",
    "            O_par_t.append(formula)\n",
    "        Y_pos_t.append(Logica.Otoria(O_par_t))\n",
    "    return Logica.Ytoria(Y_pos_t)"
   ]
  },
  {
   "cell_type": "code",
   "execution_count": 45,
   "metadata": {},
   "outputs": [],
   "source": [
    "def flowSAT():\n",
    "    SAT = []\n",
    "    SAT.append(regla_1())\n",
    "    SAT.append(regla_2())\n",
    "    SAT.append(regla_3())\n",
    "    SAT = list(filter(None, SAT))\n",
    "    return Logica.Ytoria(SAT)\n",
    "\n",
    "\n",
    "M = resolver(flowSAT())  # Resuelve\n",
    "# Si encuentra una solucion, muestra una visualizacion\n",
    "if M:\n",
    "    visualizar(M)"
   ]
  },
  {
   "cell_type": "markdown",
   "metadata": {},
   "source": [
    "<img src=\"example_imgs_notebook/regla_3.png\" width=\"250\">\n",
    "\n",
    "**Tiempo en encontrar una solucion:** < 5s. \n",
    "\n",
    "*La solucion aparece en una pestaña nueva ya que estamos utilizando Turtle.*\n",
    "\n",
    "Se observa que todas las terminales tienen exactamente un vecino de su mismo color apuntando en su direccion. Ademas de cumplirse las reglas anteriores."
   ]
  },
  {
   "cell_type": "markdown",
   "metadata": {},
   "source": [
    "# Regla 10\n",
    "\n",
    "Regla de ajuste:\n",
    "1. Las casillas de la primera fila no pueden tener direccion *top*.\n",
    "2. Las casillas de la ultima fila no pueden tener direccion *bottom*.\n",
    "3. Las casillas de la primera columna no pueden tener direccion *left*.\n",
    "4. Las casillas de la primera columna no pueden tener direcicon *right*."
   ]
  },
  {
   "cell_type": "code",
   "execution_count": 46,
   "metadata": {},
   "outputs": [],
   "source": [
    "def regla_10():\n",
    "    Y_xy = []\n",
    "    for x in X:\n",
    "        for y in Y:\n",
    "            if (x, y) not in pos_t.keys():\n",
    "                if x == 0:\n",
    "                    f = \"-\" + \\\n",
    "                        Logica.Otoria([OenCasilla.P([x, y, c, 2]) for c in C])\n",
    "                    Y_xy.append(f)\n",
    "                elif x == Nx-1:\n",
    "                    f = \"-\" + \\\n",
    "                        Logica.Otoria([OenCasilla.P([x, y, c, 3]) for c in C])\n",
    "                    Y_xy.append(f)\n",
    "                if y == 0:\n",
    "                    f = \"-\" + \\\n",
    "                        Logica.Otoria([OenCasilla.P([x, y, c, 0]) for c in C])\n",
    "                    Y_xy.append(f)\n",
    "                elif y == Ny-1:\n",
    "                    f = \"-\" + \\\n",
    "                        Logica.Otoria([OenCasilla.P([x, y, c, 1]) for c in C])\n",
    "                    Y_xy.append(f)\n",
    "    return Logica.Ytoria(Y_xy)"
   ]
  },
  {
   "cell_type": "code",
   "execution_count": 47,
   "metadata": {},
   "outputs": [],
   "source": [
    "def flowSAT():\n",
    "    SAT = []\n",
    "    SAT.append(regla_1())\n",
    "    SAT.append(regla_2())\n",
    "    SAT.append(regla_3())\n",
    "    SAT.append(regla_10())\n",
    "    SAT = list(filter(None, SAT))\n",
    "    return Logica.Ytoria(SAT)\n",
    "\n",
    "\n",
    "M = resolver(flowSAT())  # Resuelve\n",
    "# Si encuentra una solucion, muestra una visualizacion\n",
    "if M:\n",
    "    visualizar(M)"
   ]
  },
  {
   "cell_type": "markdown",
   "metadata": {},
   "source": [
    "<img src=\"example_imgs_notebook/regla_10.png\" width=\"250\">\n",
    "\n",
    "**Tiempo en encontrar una solucion:** < 6s. \n",
    "\n",
    "*La solucion aparece en una pestaña nueva ya que estamos utilizando Turtle.*\n",
    "\n",
    "Se observa que todas las casillas que se encuentran en los extremos del mapa cumplen las condiciones impuestas por la regla. Comparandolo con la solucion anterior, por ejemplo, vemos que las casillas de la primera y ultima columna no tienen direccion *top* y *bottom*, respectivamente."
   ]
  },
  {
   "cell_type": "markdown",
   "metadata": {},
   "source": [
    "# Reglas de direcciones"
   ]
  },
  {
   "cell_type": "markdown",
   "metadata": {},
   "source": [
    "Estas reglas tienen la caracteristiza de no poder visualizarse de forma adecuada agregandolas de una en una, ya que es posible que una de las direcciones posibles de las que este tratando la regla no aparezca en la solucion.\n",
    "\n",
    "Por esto ultimo, **implementaremos las reglas en desorden para observar mejor el efecto**."
   ]
  },
  {
   "cell_type": "markdown",
   "metadata": {},
   "source": [
    "### Regla 4\n",
    "\n",
    "Regla para la cuando una casilla tiene las direcciones *left-right*:\n",
    "- Su vecino superior no debe tener *bottom*.\n",
    "- Su vecino derecho debe tener *left*.\n",
    "- Su vecino inferior no debe tener *top*.\n",
    "- Su vecino izquierdo debe tener *right*."
   ]
  },
  {
   "cell_type": "code",
   "execution_count": 48,
   "metadata": {},
   "outputs": [],
   "source": [
    "# Left-Right en numeros son la direccion 2-3\n",
    "def regla_4():\n",
    "    Y_xy = []\n",
    "    for x in X:\n",
    "        for y in Y:\n",
    "            if (x,y) not in pos_t.keys() and (x!=0 and x!=Nx-1):\n",
    "                O_c = []\n",
    "                for c in C:\n",
    "                    formula = \"(\"+OenCasilla.P([x,y,c,2])+\"Y\"+OenCasilla.P([x,y,c,3])+\")\"\n",
    "                    vecinos = []\n",
    "                    if((x+1,y) in pos_t.keys()):\n",
    "                        if ((x-1,y) in pos_t.keys()):\n",
    "                            continue\n",
    "                        else:\n",
    "                            vecinos.append( OenCasilla.P([x - 1, y, pos_t[(x + 1, y)], 3]) )\n",
    "                    elif ((x-1,y) in pos_t.keys()):\n",
    "                        vecinos.append( OenCasilla.P([x + 1, y, pos_t[(x-1, y)], 2]) )\n",
    "                    else:\n",
    "                        vecinos.append( \"(\"+OenCasilla.P([x + 1, y, c ,2]) + \"Y\" + OenCasilla.P([x - 1,y,c,3])+\")\")\n",
    "                    opuestos_a = [\"-\"+OenCasilla.P([x,y+1,o,0]) for o in C if y+1 in Y]\n",
    "                    opuestos_b = [\"-\"+OenCasilla.P([x,y-1,o,1]) for o in C if y-1 in Y]\n",
    "                    total_op = Logica.Ytoria(vecinos + opuestos_a + opuestos_b)\n",
    "                    formula_total = \"(\"+formula+\">\"+total_op+\")\"\n",
    "                    O_c.append(formula_total)\n",
    "                if len(O_c) != 0:\n",
    "                    Y_xy.append(Logica.Ytoria(O_c))\n",
    "    return Logica.Ytoria(Y_xy)"
   ]
  },
  {
   "cell_type": "code",
   "execution_count": 49,
   "metadata": {},
   "outputs": [],
   "source": [
    "def flowSAT():\n",
    "    SAT = []\n",
    "    SAT.append(regla_1())\n",
    "    SAT.append(regla_2())\n",
    "    SAT.append(regla_3())\n",
    "    SAT.append(regla_10())\n",
    "    SAT.append(regla_4())\n",
    "    SAT = list(filter(None, SAT))\n",
    "    return Logica.Ytoria(SAT)\n",
    "\n",
    "\n",
    "M = resolver(flowSAT())  # Resuelve\n",
    "# Si encuentra una solucion, muestra una visualizacion\n",
    "if M:\n",
    "    visualizar(M)"
   ]
  },
  {
   "cell_type": "markdown",
   "metadata": {},
   "source": [
    "<img src=\"example_imgs_notebook/regla_4.png\" width=\"250\">\n",
    "\n",
    "**Tiempo en encontrar una solucion:** < 6s. \n",
    "\n",
    "*La solucion aparece en una pestaña nueva ya que estamos utilizando Turtle.*\n",
    "\n",
    "La solucion anterior incumplia esta regla en la celda (3, 0) en la que habia una casilla con direcciones *left-right* cuyos vecinos izquierdo y derecho no se encontraban conectadas con esta.\n",
    "\n",
    "En la nueva solucion que encontro, observamos como siempre que una casilla tiene direcciones *left-right* sus vecinos se encuentran conectadas con estas de alguna manera."
   ]
  },
  {
   "cell_type": "markdown",
   "metadata": {},
   "source": [
    "### Regla 6\n",
    "\n",
    "Regla para la cuando una casilla tiene las direcciones *top-left*:\n",
    "- Su vecino superior debe tener *bottom*.\n",
    "- Su vecino derecho no debe tener *left*.\n",
    "- Su vecino inferior no debe tener *top*.\n",
    "- Su vecino izquierdo debe tener *right*."
   ]
  },
  {
   "cell_type": "code",
   "execution_count": 50,
   "metadata": {},
   "outputs": [],
   "source": [
    "# Top-Left en numeros son la direccion 0-2\n",
    "def regla_6():  \n",
    "    Y_xy = []\n",
    "    for x in X:\n",
    "        for y in Y:\n",
    "            if (x, y) not in pos_t.keys() and (y != 0 and x != 0):\n",
    "                O_c = []\n",
    "                for c in C:\n",
    "                    formula = \"(\" + OenCasilla.P([x, y, c, 0]) + \\\n",
    "                        \"Y\" + OenCasilla.P([x, y, c, 2]) + \")\"\n",
    "                    vecinos = []\n",
    "                    if((x - 1, y) in pos_t.keys()):\n",
    "                        if ((x, y - 1) in pos_t.keys()):\n",
    "                            continue\n",
    "                        else:\n",
    "                            vecinos.append(OenCasilla.P(\n",
    "                                [x, y - 1, pos_t[(x - 1, y)], 1]))\n",
    "                    elif ((x, y - 1) in pos_t.keys()):\n",
    "                        vecinos.append(OenCasilla.P(\n",
    "                            [x - 1, y, pos_t[(x, y - 1)], 3]))\n",
    "                    else:\n",
    "                        vecinos.append(\n",
    "                            \"(\" + OenCasilla.P([x - 1, y, c, 3]) + \"Y\" + OenCasilla.P([x, y - 1, c, 1]) + \")\")\n",
    "                    opuestos_a = [\n",
    "                        \"-\" + OenCasilla.P([x, y + 1, o, 0]) for o in C if y + 1 in Y]\n",
    "                    opuestos_b = [\n",
    "                        \"-\" + OenCasilla.P([x + 1, y, o, 2]) for o in C if x + 1 in X]\n",
    "                    total_op = Logica.Ytoria(vecinos + opuestos_a + opuestos_b)\n",
    "                    formula_total = \"(\" + formula + \">\" + total_op + \")\"\n",
    "                    O_c.append(formula_total)\n",
    "                if len(O_c) != 0:\n",
    "                    Y_xy.append(Logica.Ytoria(O_c))\n",
    "    return Logica.Ytoria(Y_xy)"
   ]
  },
  {
   "cell_type": "code",
   "execution_count": 51,
   "metadata": {},
   "outputs": [],
   "source": [
    "def flowSAT():\n",
    "    SAT = []\n",
    "    SAT.append(regla_1())\n",
    "    SAT.append(regla_2())\n",
    "    SAT.append(regla_3())\n",
    "    SAT.append(regla_10())\n",
    "    SAT.append(regla_4())\n",
    "    SAT.append(regla_6())\n",
    "    SAT = list(filter(None, SAT))\n",
    "    return Logica.Ytoria(SAT)\n",
    "\n",
    "\n",
    "M = resolver(flowSAT())  # Resuelve\n",
    "# Si encuentra una solucion, muestra una visualizacion\n",
    "if M:\n",
    "    visualizar(M)"
   ]
  },
  {
   "cell_type": "markdown",
   "metadata": {},
   "source": [
    "<img src=\"example_imgs_notebook/regla_6.png\" width=\"250\">\n",
    "\n",
    "**Tiempo en encontrar una solucion:** < 7s. \n",
    "\n",
    "*La solucion aparece en una pestaña nueva ya que estamos utilizando Turtle.*\n",
    "\n",
    "La solucion anterior incumplia esta regla en la celda (1, 4) en la que habia una casilla azul con direcciones *top-left* cuyo vecino izquierdo era verde.\n",
    "\n",
    "En la nueva solucion que encontro, observamos que la unica celda que cambio es la (1, 4) hacia la direccion *top-right* donde todavia falta implementar una regla."
   ]
  },
  {
   "cell_type": "markdown",
   "metadata": {},
   "source": [
    "### Regla 5\n",
    "\n",
    "Regla para la cuando una casilla tiene las direcciones *top-right*: \n",
    "- Su vecino superior debe tener *bottom*.\n",
    "- Su vecino derecho debe tener *left*.\n",
    "- Su vecino inferior no debe tener *top*.\n",
    "- Su vecino izquierdo no debe tener *right*."
   ]
  },
  {
   "cell_type": "code",
   "execution_count": 52,
   "metadata": {},
   "outputs": [],
   "source": [
    "# Top-Right en numeros son la direccion 0-3\n",
    "def regla_5():\n",
    "    Y_xy = []\n",
    "    for x in X:\n",
    "        for y in Y:\n",
    "            if (x, y) not in pos_t.keys() and (y != 0 and x != Nx-1):\n",
    "                O_c = []\n",
    "                for c in C:\n",
    "                    formula = \"(\" + OenCasilla.P([x, y, c, 0]) + \\\n",
    "                        \"Y\" + OenCasilla.P([x, y, c, 3]) + \")\"\n",
    "                    vecinos = []\n",
    "                    if((x + 1, y) in pos_t.keys()):\n",
    "                        if ((x, y - 1) in pos_t.keys()):\n",
    "                            continue\n",
    "                        else:\n",
    "                            vecinos.append(OenCasilla.P(\n",
    "                                [x, y - 1, pos_t[(x + 1, y)], 1]))\n",
    "                    elif ((x, y - 1) in pos_t.keys()):\n",
    "                        vecinos.append(OenCasilla.P(\n",
    "                            [x + 1, y, pos_t[(x, y - 1)], 2]))\n",
    "                    else:\n",
    "                        vecinos.append(\n",
    "                            \"(\" + OenCasilla.P([x + 1, y, c, 2]) + \"Y\" + OenCasilla.P([x, y - 1, c, 1]) + \")\")\n",
    "                    opuestos_a = [\n",
    "                        \"-\" + OenCasilla.P([x, y + 1, o, 0]) for o in C if y + 1 in Y]\n",
    "                    opuestos_b = [\n",
    "                        \"-\" + OenCasilla.P([x - 1, y, o, 3]) for o in C if x - 1 in X]\n",
    "                    total_op = Logica.Ytoria(vecinos + opuestos_a + opuestos_b)\n",
    "                    formula_total = \"(\" + formula + \">\" + total_op + \")\"\n",
    "                    O_c.append(formula_total)\n",
    "                if len(O_c) != 0:\n",
    "                    Y_xy.append(Logica.Ytoria(O_c))\n",
    "    return Logica.Ytoria(Y_xy)"
   ]
  },
  {
   "cell_type": "code",
   "execution_count": 53,
   "metadata": {},
   "outputs": [],
   "source": [
    "def flowSAT():\n",
    "    SAT = []\n",
    "    SAT.append(regla_1())\n",
    "    SAT.append(regla_2())\n",
    "    SAT.append(regla_3())\n",
    "    SAT.append(regla_10())\n",
    "    SAT.append(regla_4())\n",
    "    SAT.append(regla_6())\n",
    "    SAT.append(regla_5())\n",
    "    SAT = list(filter(None, SAT))\n",
    "    return Logica.Ytoria(SAT)\n",
    "\n",
    "\n",
    "M = resolver(flowSAT())  # Resuelve\n",
    "# Si encuentra una solucion, muestra una visualizacion\n",
    "if M:\n",
    "    visualizar(M)"
   ]
  },
  {
   "cell_type": "markdown",
   "metadata": {},
   "source": [
    "<img src=\"example_imgs_notebook/regla_5.png\" width=\"250\">\n",
    "\n",
    "**Tiempo en encontrar una solucion:** < 7s. \n",
    "\n",
    "*La solucion aparece en una pestaña nueva ya que estamos utilizando Turtle.*\n",
    "\n",
    "La solucion anterior incumplia esta regla en la celda (1, 4) en la que habia una casilla azul con direcciones *top-right* cuyo vecino derecho era verde y no se encontraba conectado.\n",
    "\n",
    "En la nueva solucion que encontro, observamos como cambia toda la ultima fila. Gracias a esta regla vemos que la casilla (1, 4) debe ser verde con direcciones *left-right*."
   ]
  },
  {
   "cell_type": "markdown",
   "metadata": {},
   "source": [
    "### Regla 7\n",
    "\n",
    "Regla para la cuando una casilla tiene las direcciones *top-bottom*:\n",
    "- Su vecino superior debe tener *bottom*.\n",
    "- Su vecino derecho no debe tener *left*.\n",
    "- Su vecino inferior debe tener *top*.\n",
    "- Su vecino izquierdo no debe tener *right*."
   ]
  },
  {
   "cell_type": "code",
   "execution_count": 54,
   "metadata": {},
   "outputs": [],
   "source": [
    "# Top-Bottom en numeros es 0-1\n",
    "def regla_7():\n",
    "    Y_xy = []\n",
    "    for x in X:\n",
    "        for y in Y:\n",
    "            if (x,y) not in pos_t.keys() and (y!=0 and y!=Ny-1):\n",
    "                O_c = []\n",
    "                for c in C:\n",
    "                    formula = \"(\" + OenCasilla.P([x, y, c, 0]) + \"Y\" + OenCasilla.P([x, y, c, 1]) + \")\"\n",
    "                    vecinos = []\n",
    "                    if((x, y + 1) in pos_t.keys()):\n",
    "                        if ((x, y - 1) in pos_t.keys()): # bottom es Terminal y top es Terminal\n",
    "                            continue\n",
    "                        else: # bottom es Terminal y top no es Terminal\n",
    "                            vecinos.append( OenCasilla.P([x, y - 1, pos_t[(x, y + 1)], 1]) )\n",
    "                    elif ((x, y - 1) in pos_t.keys()): # bottom no es Terminal y top es Terminal\n",
    "                        vecinos.append( OenCasilla.P([x, y + 1, pos_t[(x, y - 1)], 0]) )\n",
    "                    else: # ni bottom ni top son Terminal\n",
    "                        vecinos.append( \"(\" + OenCasilla.P([x, y + 1, c , 0]) + \"Y\" + OenCasilla.P([x ,y - 1, c, 1]) + \")\")\n",
    "                    opuestos_a = [\"-\" + OenCasilla.P([x - 1, y, o, 3]) for o in C if x - 1 in X]\n",
    "                    opuestos_b = [\"-\" + OenCasilla.P([x + 1, y, o, 2]) for o in C if x + 1 in X]\n",
    "                    total_op = Logica.Ytoria(vecinos + opuestos_a + opuestos_b)\n",
    "                    formula_total = \"(\" + formula + \">\" + total_op + \")\"\n",
    "                    O_c.append(formula_total)\n",
    "                if len(O_c) != 0:\n",
    "                    Y_xy.append(Logica.Ytoria(O_c))\n",
    "    return Logica.Ytoria(Y_xy)"
   ]
  },
  {
   "cell_type": "code",
   "execution_count": 55,
   "metadata": {},
   "outputs": [],
   "source": [
    "def flowSAT():\n",
    "    SAT = []\n",
    "    SAT.append(regla_1())\n",
    "    SAT.append(regla_2())\n",
    "    SAT.append(regla_3())\n",
    "    SAT.append(regla_10())\n",
    "    SAT.append(regla_4())\n",
    "    SAT.append(regla_6())\n",
    "    SAT.append(regla_5())\n",
    "    SAT.append(regla_7())\n",
    "    SAT = list(filter(None, SAT))\n",
    "    return Logica.Ytoria(SAT)\n",
    "\n",
    "\n",
    "M = resolver(flowSAT())  # Resuelve\n",
    "# Si encuentra una solucion, muestra una visualizacion\n",
    "if M:\n",
    "    visualizar(M)"
   ]
  },
  {
   "cell_type": "markdown",
   "metadata": {},
   "source": [
    "<img src=\"example_imgs_notebook/regla_7.png\" width=\"250\">\n",
    "\n",
    "**Tiempo en encontrar una solucion:** < 8s. \n",
    "\n",
    "*La solucion aparece en una pestaña nueva ya que estamos utilizando Turtle.*\n",
    "\n",
    "La solucion anterior incumplia esta regla en la celda (2, 2) en la que habia una casilla azul con direcciones *top-bottom* cuyo vecino superior era rojo y no se encontraba conectado.\n",
    "\n",
    "En la nueva solucion que encontro, observamos como cambia la casilla (2, 2) logrando obtener una solucion correcta para el juego. **Sin embargo, existen juegos que todavia no se pueden solucionar**."
   ]
  },
  {
   "cell_type": "markdown",
   "metadata": {},
   "source": [
    "## Cambio de situacion inicial\n",
    "\n",
    "El mapa que se encuentra en *mapas/5x5/5.txt* no encuentra una solucion correcta con las reglas que hemos definido hasta ahora."
   ]
  },
  {
   "cell_type": "code",
   "execution_count": 56,
   "metadata": {},
   "outputs": [],
   "source": [
    "mapa = FlowRead(\"mapas/5x5/5.txt\")  # Lectura del archivo\n",
    "\n",
    "Nx = len(mapa[0])  # Casillas X\n",
    "Ny = len(mapa)  # Casillas Y\n",
    "Nc = 5  # Numero de colores posibles\n",
    "Nd = 4  # Numero de direcciones posibles\n",
    "\n",
    "# Listas\n",
    "X = list(range(Nx))\n",
    "Y = list(range(Ny))\n",
    "C = list(range(Nc))\n",
    "D = list(range(Nd))\n",
    "\n",
    "# Diccionario con la transformacion de numero a caracter\n",
    "# de los colores y direcciones posibles\n",
    "NColores = {'R': 0, 'G': 1, 'B': 2, 'O': 3, 'P': 4}\n",
    "Colores = {0: 'R', 1: 'G', 2: 'B', 3: 'O', 4: 'P'}\n",
    "Direcciones = {0: 't', 1: 'b', 2: 'l', 3: 'r'}\n",
    "direcciones_posibles = {\n",
    "    (0, 1): 'tb', (0, 2): 'tl', (0, 3): 'tr',\n",
    "    (1, 2): 'bl', (1, 3): 'br', (2, 3): 'lr'}\n",
    "\n",
    "# Descriptor de las situacion\n",
    "OenCasilla = Logica.Descriptor([Nx, Ny, Nc, Nd], chrInit=257)\n",
    "pos_t = defineMap(mapa)  # Lista de las posiciones con terminales"
   ]
  },
  {
   "cell_type": "code",
   "execution_count": 57,
   "metadata": {},
   "outputs": [],
   "source": [
    "M = resolver(flowSAT())  # Resuelve\n",
    "# Si encuentra una solucion, muestra una visualizacion\n",
    "if M:\n",
    "    visualizar(M)"
   ]
  },
  {
   "cell_type": "markdown",
   "metadata": {},
   "source": [
    "<img src=\"example_imgs_notebook/cambio_situacion.png\" width=\"250\">\n",
    "\n",
    "Observamos como no todos las casillas se encuentran correctamente conectadas."
   ]
  },
  {
   "cell_type": "markdown",
   "metadata": {},
   "source": [
    "### Regla 8\n",
    "\n",
    "Regla para la cuando una casilla tiene las direcciones *left-bottom*:\n",
    "- Su vecino superior no debe tener *bottom*.\n",
    "- Su vecino derecho no debe tener *left*.\n",
    "- Su vecino inferior debe tener *top*.\n",
    "- Su vecino izquierdo debe tener *right*."
   ]
  },
  {
   "cell_type": "code",
   "execution_count": 58,
   "metadata": {},
   "outputs": [],
   "source": [
    "# Left-Bottom en numeros son 2-1\n",
    "def regla_8():\n",
    "    Y_xy = []\n",
    "    for x in X:\n",
    "        for y in Y:\n",
    "            if (x, y) not in pos_t.keys() and (x != 0 and y != Ny-1):\n",
    "                O_c = []\n",
    "                for c in C:\n",
    "                    formula = \"(\" + OenCasilla.P([x, y, c, 2]) + \\\n",
    "                        \"Y\" + OenCasilla.P([x, y, c, 1]) + \")\"\n",
    "                    vecinos = []\n",
    "                    if((x, y + 1) in pos_t.keys()):\n",
    "                        if ((x - 1, y) in pos_t.keys()):  # bottom es Terminal y left es Terminal\n",
    "                            continue\n",
    "                        else:  # bottom es Terminal y left no es Terminal\n",
    "                            vecinos.append(OenCasilla.P(\n",
    "                                [x - 1, y, pos_t[(x, y + 1)], 3]))\n",
    "                    elif ((x - 1, y) in pos_t.keys()):  # bottom no es Terminal y left es Terminal\n",
    "                        vecinos.append(OenCasilla.P(\n",
    "                            [x, y + 1, pos_t[(x - 1, y)], 0]))\n",
    "                    else:  # ni bottom ni left son Terminal\n",
    "                        vecinos.append(\n",
    "                            \"(\" + OenCasilla.P([x, y + 1, c, 0]) + \"Y\" + OenCasilla.P([x - 1, y, c, 3]) + \")\")\n",
    "                    opuestos_a = [\n",
    "                        \"-\" + OenCasilla.P([x, y - 1, o, 1]) for o in C if y - 1 in Y]\n",
    "                    opuestos_b = [\n",
    "                        \"-\" + OenCasilla.P([x + 1, y, o, 2]) for o in C if x + 1 in X]\n",
    "                    total_op = Logica.Ytoria(vecinos + opuestos_a + opuestos_b)\n",
    "                    formula_total = \"(\" + formula + \">\" + total_op + \")\"\n",
    "                    O_c.append(formula_total)\n",
    "                if len(O_c) != 0:\n",
    "                    Y_xy.append(Logica.Ytoria(O_c))\n",
    "    return Logica.Ytoria(Y_xy)"
   ]
  },
  {
   "cell_type": "code",
   "execution_count": 59,
   "metadata": {},
   "outputs": [],
   "source": [
    "def flowSAT():\n",
    "    SAT = []\n",
    "    SAT.append(regla_1())\n",
    "    SAT.append(regla_2())\n",
    "    SAT.append(regla_3())\n",
    "    SAT.append(regla_10())\n",
    "    SAT.append(regla_4())\n",
    "    SAT.append(regla_6())\n",
    "    SAT.append(regla_5())\n",
    "    SAT.append(regla_7())\n",
    "    SAT.append(regla_8())\n",
    "    SAT = list(filter(None, SAT))\n",
    "    return Logica.Ytoria(SAT)\n",
    "\n",
    "\n",
    "M = resolver(flowSAT())  # Resuelve\n",
    "# Si encuentra una solucion, muestra una visualizacion\n",
    "if M:\n",
    "    visualizar(M)"
   ]
  },
  {
   "cell_type": "markdown",
   "metadata": {},
   "source": [
    "<img src=\"example_imgs_notebook/regla_8.png\" width=\"250\">\n",
    "\n",
    "**Tiempo en encontrar una solucion:** < 9s. \n",
    "\n",
    "*La solucion aparece en una pestaña nueva ya que estamos utilizando Turtle.*\n",
    "\n",
    "La solucion anterior incumplia esta regla en las casilla azul (1, 0) que tenia direcciones *left-bottom* cuyo vecino izquierdo era de color rojo.\n",
    "\n",
    "En la nueva solucion que encontro, observamos que esta casilla (1, 0) cambia de direcciones a *right-bottom* que es la regla que aun nos falta por definir."
   ]
  },
  {
   "cell_type": "markdown",
   "metadata": {},
   "source": [
    "### Regla 9\n",
    "\n",
    "Regla para la cuando una casilla tiene las direcciones *right-bottom*:\n",
    "- Su vecino superior no debe tener *bottom*.\n",
    "- Su vecino derecho debe tener *left*.\n",
    "- Su vecino inferior debe tener *top*.\n",
    "- Su vecino izquierdo no debe tener *right*."
   ]
  },
  {
   "cell_type": "code",
   "execution_count": 60,
   "metadata": {},
   "outputs": [],
   "source": [
    "# Right-Bottom en numeros es 3-1\n",
    "def regla_9():\n",
    "    Y_xy = []\n",
    "    for x in X:\n",
    "        for y in Y:\n",
    "            if (x, y) not in pos_t.keys() and (x != Nx-1 and y != Ny-1):\n",
    "                O_c = []\n",
    "                for c in C:\n",
    "                    formula = \"(\" + OenCasilla.P([x, y, c, 3]) + \\\n",
    "                        \"Y\" + OenCasilla.P([x, y, c, 1]) + \")\"\n",
    "                    vecinos = []\n",
    "                    if((x, y + 1) in pos_t.keys()):\n",
    "                        if ((x + 1, y) in pos_t.keys()):  # bottom es Terminal y right es Terminal\n",
    "                            continue\n",
    "                        else:  # bottom es Terminal y right no es Terminal\n",
    "                            vecinos.append(OenCasilla.P(\n",
    "                                [x + 1, y, pos_t[(x, y + 1)], 2]))\n",
    "                    elif ((x + 1, y) in pos_t.keys()):  # bottom no es Terminal y right es Terminal\n",
    "                        vecinos.append(OenCasilla.P(\n",
    "                            [x, y + 1, pos_t[(x + 1, y)], 0]))\n",
    "                    else:  # ni bottom ni right son Terminal\n",
    "                        vecinos.append(\n",
    "                            \"(\" + OenCasilla.P([x, y + 1, c, 0]) + \"Y\" + OenCasilla.P([x + 1, y, c, 2]) + \")\")\n",
    "                    opuestos_a = [\n",
    "                        \"-\" + OenCasilla.P([x, y - 1, o, 1]) for o in C if y - 1 in X]\n",
    "                    opuestos_b = [\n",
    "                        \"-\" + OenCasilla.P([x - 1, y, o, 3]) for o in C if x - 1 in X]\n",
    "                    total_op = Logica.Ytoria(vecinos + opuestos_a + opuestos_b)\n",
    "                    formula_total = \"(\" + formula + \">\" + total_op + \")\"\n",
    "                    O_c.append(formula_total)\n",
    "                if len(O_c) != 0:\n",
    "                    Y_xy.append(Logica.Ytoria(O_c))\n",
    "    return Logica.Ytoria(Y_xy)\n"
   ]
  },
  {
   "cell_type": "code",
   "execution_count": 61,
   "metadata": {},
   "outputs": [],
   "source": [
    "def flowSAT():\n",
    "    SAT = []\n",
    "    SAT.append(regla_1())\n",
    "    SAT.append(regla_2())\n",
    "    SAT.append(regla_3())\n",
    "    SAT.append(regla_10())\n",
    "    SAT.append(regla_4())\n",
    "    SAT.append(regla_6())\n",
    "    SAT.append(regla_5())\n",
    "    SAT.append(regla_7())\n",
    "    SAT.append(regla_8())\n",
    "    SAT.append(regla_9())\n",
    "    SAT = list(filter(None, SAT))\n",
    "    return Logica.Ytoria(SAT)\n",
    "\n",
    "M = resolver(flowSAT())  # Resuelve\n",
    "# Si encuentra una solucion, muestra una visualizacion\n",
    "if M:\n",
    "    visualizar(M)"
   ]
  },
  {
   "cell_type": "markdown",
   "metadata": {},
   "source": [
    "<img src=\"example_imgs_notebook/regla_9.png\" width=\"250\">\n",
    "\n",
    "**Tiempo en encontrar una solucion:** < 11s. \n",
    "\n",
    "*La solucion aparece en una pestaña nueva ya que estamos utilizando Turtle.*\n",
    "\n",
    "La solucion anterior incumplia esta regla en las casilla azul (0, 0) que tenia direcciones *right-bottom* cuyo vecino derecho era de color azul y no se encontraba conectada.\n",
    "\n",
    "Vemos como en la nueva solucion, se corrigen todas las casillas que tenian direcciones *right-bottom* y se encuentra la solucion correcta."
   ]
  },
  {
   "cell_type": "markdown",
   "metadata": {},
   "source": [
    "# Experimentacion\n",
    "\n",
    "Invitamos al lector que experimente con los demas ejemplos que se encuentran en la carpeta *mapas/* utilizando el siguiente codigo:"
   ]
  },
  {
   "cell_type": "code",
   "execution_count": null,
   "metadata": {},
   "outputs": [],
   "source": [
    "path_mapa = \"mapas/6x6/1.txt\""
   ]
  },
  {
   "cell_type": "code",
   "execution_count": null,
   "metadata": {},
   "outputs": [],
   "source": [
    "mapa = FlowRead(path_mapa)  # Lectura del archivo\n",
    "\n",
    "Nx = len(mapa[0])  # Casillas X\n",
    "Ny = len(mapa)  # Casillas Y\n",
    "Nc = 5  # Numero de colores posibles\n",
    "Nd = 4  # Numero de direcciones posibles\n",
    "\n",
    "# Listas\n",
    "X = list(range(Nx))\n",
    "Y = list(range(Ny))\n",
    "C = list(range(Nc))\n",
    "D = list(range(Nd))\n",
    "\n",
    "# Diccionario con la transformacion de numero a caracter\n",
    "# de los colores y direcciones posibles\n",
    "NColores = {'R': 0, 'G': 1, 'B': 2, 'O': 3, 'P': 4}\n",
    "Colores = {0: 'R', 1: 'G', 2: 'B', 3: 'O', 4: 'P'}\n",
    "Direcciones = {0: 't', 1: 'b', 2: 'l', 3: 'r'}\n",
    "direcciones_posibles = {\n",
    "    (0, 1): 'tb', (0, 2): 'tl', (0, 3): 'tr',\n",
    "    (1, 2): 'bl', (1, 3): 'br', (2, 3): 'lr'}\n",
    "\n",
    "# Descriptor de las situacion\n",
    "OenCasilla = Logica.Descriptor([Nx, Ny, Nc, Nd], chrInit=257)\n",
    "pos_t = defineMap(mapa)  # Lista de las posiciones con terminales\n",
    "\n",
    "\n",
    "def flowSAT():\n",
    "    SAT = []\n",
    "    SAT.append(regla_1())\n",
    "    SAT.append(regla_2())\n",
    "    SAT.append(regla_3())\n",
    "    SAT.append(regla_10())\n",
    "    SAT.append(regla_4())\n",
    "    SAT.append(regla_6())\n",
    "    SAT.append(regla_5())\n",
    "    SAT.append(regla_7())\n",
    "    SAT.append(regla_8())\n",
    "    SAT.append(regla_9())\n",
    "    SAT = list(filter(None, SAT))\n",
    "    return Logica.Ytoria(SAT)\n",
    "\n",
    "\n",
    "M = resolver(flowSAT())  # Resuelve\n",
    "# Si encuentra una solucion, muestra una visualizacion\n",
    "if M:\n",
    "    visualizar(M)"
   ]
  }
 ],
 "metadata": {
  "interpreter": {
   "hash": "1d1e006576485885fb2fda865a3a5c1ff58f4b5b8d8819df6e7d00271f0fe765"
  },
  "kernelspec": {
   "display_name": "Python 3",
   "language": "python",
   "name": "python3"
  },
  "language_info": {
   "codemirror_mode": {
    "name": "ipython",
    "version": 3
   },
   "file_extension": ".py",
   "mimetype": "text/x-python",
   "name": "python",
   "nbconvert_exporter": "python",
   "pygments_lexer": "ipython3",
   "version": "3.9.7"
  },
  "vscode": {
   "interpreter": {
    "hash": "1d1e006576485885fb2fda865a3a5c1ff58f4b5b8d8819df6e7d00271f0fe765"
   }
  }
 },
 "nbformat": 4,
 "nbformat_minor": 2
}
